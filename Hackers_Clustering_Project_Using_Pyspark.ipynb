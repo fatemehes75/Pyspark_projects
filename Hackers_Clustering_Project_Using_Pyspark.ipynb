{
  "cells": [
    {
      "cell_type": "markdown",
      "metadata": {
        "id": "y4Ps4BUJyJcO"
      },
      "source": [
        "# Clustering Project \n",
        "\n",
        "A technology firm has 3 potential hackers that perpetrated the attack. Their certain of the first two hackers but they aren't very sure if the third hacker was involved or not.  Eheir forensic engineers have grabbed valuable data about the hacks. These are the features of the data:\n",
        "\n",
        "* 'Session_Connection_Time': How long the session lasted in minutes\n",
        "* 'Bytes Transferred': Number of MB transferred during session\n",
        "* 'Kali_Trace_Used': Indicates if the hacker was using Kali Linux\n",
        "* 'Servers_Corrupted': Number of server corrupted during the attack\n",
        "* 'Pages_Corrupted': Number of pages illegally accessed\n",
        "* 'Location': Location attack came from (Probably useless because the hackers used VPNs)\n",
        "* 'WPM_Typing_Speed': Their estimated typing speed based on session logs."
      ]
    },
    {
      "cell_type": "code",
      "source": [
        "!pip install pyspark"
      ],
      "metadata": {
        "colab": {
          "base_uri": "https://localhost:8080/"
        },
        "id": "w9snKq4Cy3bM",
        "outputId": "da7d1fcf-2522-4e39-aea6-5f5a8cf561fb"
      },
      "execution_count": 1,
      "outputs": [
        {
          "output_type": "stream",
          "name": "stdout",
          "text": [
            "Looking in indexes: https://pypi.org/simple, https://us-python.pkg.dev/colab-wheels/public/simple/\n",
            "Collecting pyspark\n",
            "  Downloading pyspark-3.4.0.tar.gz (310.8 MB)\n",
            "\u001b[2K     \u001b[90m━━━━━━━━━━━━━━━━━━━━━━━━━━━━━━━━━━━━━━━\u001b[0m \u001b[32m310.8/310.8 MB\u001b[0m \u001b[31m2.7 MB/s\u001b[0m eta \u001b[36m0:00:00\u001b[0m\n",
            "\u001b[?25h  Preparing metadata (setup.py) ... \u001b[?25l\u001b[?25hdone\n",
            "Requirement already satisfied: py4j==0.10.9.7 in /usr/local/lib/python3.10/dist-packages (from pyspark) (0.10.9.7)\n",
            "Building wheels for collected packages: pyspark\n",
            "  Building wheel for pyspark (setup.py) ... \u001b[?25l\u001b[?25hdone\n",
            "  Created wheel for pyspark: filename=pyspark-3.4.0-py2.py3-none-any.whl size=311317145 sha256=2796deb92acc10546141943581d1de9e0aca98a3e7f05649db62d3b174e28b57\n",
            "  Stored in directory: /root/.cache/pip/wheels/7b/1b/4b/3363a1d04368e7ff0d408e57ff57966fcdf00583774e761327\n",
            "Successfully built pyspark\n",
            "Installing collected packages: pyspark\n",
            "Successfully installed pyspark-3.4.0\n"
          ]
        }
      ]
    },
    {
      "cell_type": "code",
      "execution_count": 2,
      "metadata": {
        "collapsed": true,
        "id": "Vef2h4hAyJcX"
      },
      "outputs": [],
      "source": [
        "import pyspark\n",
        "from pyspark.sql import SparkSession\n",
        "spark = SparkSession.builder.appName('hack_find').getOrCreate()"
      ]
    },
    {
      "cell_type": "code",
      "execution_count": 3,
      "metadata": {
        "collapsed": true,
        "id": "bmFvqAjDyJca"
      },
      "outputs": [],
      "source": [
        "# Loads data\n",
        "data = spark.read.csv(\"hack_data.csv\",header=True,inferSchema=True)"
      ]
    },
    {
      "cell_type": "code",
      "execution_count": 4,
      "metadata": {
        "colab": {
          "base_uri": "https://localhost:8080/"
        },
        "id": "ZXqEupJFyJcb",
        "outputId": "9535064a-276e-49f0-a13b-f56d32379156"
      },
      "outputs": [
        {
          "output_type": "stream",
          "name": "stdout",
          "text": [
            "+-----------------------+-----------------+---------------+-----------------+---------------+--------------------+----------------+\n",
            "|Session_Connection_Time|Bytes Transferred|Kali_Trace_Used|Servers_Corrupted|Pages_Corrupted|            Location|WPM_Typing_Speed|\n",
            "+-----------------------+-----------------+---------------+-----------------+---------------+--------------------+----------------+\n",
            "|                    8.0|           391.09|              1|             2.96|            7.0|            Slovenia|           72.37|\n",
            "|                   20.0|           720.99|              0|             3.04|            9.0|British Virgin Is...|           69.08|\n",
            "|                   31.0|           356.32|              1|             3.71|            8.0|             Tokelau|           70.58|\n",
            "|                    2.0|           228.08|              1|             2.48|            8.0|             Bolivia|            70.8|\n",
            "|                   20.0|            408.5|              0|             3.57|            8.0|                Iraq|           71.28|\n",
            "|                    1.0|           390.69|              1|             2.79|            9.0|    Marshall Islands|           71.57|\n",
            "|                   18.0|           342.97|              1|              5.1|            7.0|             Georgia|           72.32|\n",
            "|                   22.0|           101.61|              1|             3.03|            7.0|         Timor-Leste|           72.03|\n",
            "|                   15.0|           275.53|              1|             3.53|            8.0|Palestinian Terri...|           70.17|\n",
            "|                   12.0|           424.83|              1|             2.53|            8.0|          Bangladesh|           69.99|\n",
            "|                   15.0|           249.09|              1|             3.39|            9.0|Northern Mariana ...|           70.77|\n",
            "|                   32.0|           242.48|              0|             4.24|            8.0|            Zimbabwe|           67.93|\n",
            "|                   23.0|           514.54|              0|             3.18|            8.0|         Isle of Man|           68.56|\n",
            "|                    9.0|           284.77|              0|             3.12|            9.0|Sao Tome and Prin...|           70.82|\n",
            "|                   27.0|           779.25|              1|             2.37|            8.0|              Greece|           72.73|\n",
            "|                   12.0|           307.31|              1|             3.22|            7.0|     Solomon Islands|           67.95|\n",
            "|                   21.0|           355.94|              1|              2.0|            7.0|       Guinea-Bissau|            72.0|\n",
            "|                   10.0|           372.65|              0|             3.33|            7.0|        Burkina Faso|           69.19|\n",
            "|                   20.0|           347.23|              1|             2.33|            7.0|            Mongolia|           70.41|\n",
            "|                   22.0|           456.57|              0|             1.52|            8.0|             Nigeria|           69.35|\n",
            "+-----------------------+-----------------+---------------+-----------------+---------------+--------------------+----------------+\n",
            "only showing top 20 rows\n",
            "\n"
          ]
        }
      ],
      "source": [
        "data.show()"
      ]
    },
    {
      "cell_type": "code",
      "execution_count": 5,
      "metadata": {
        "colab": {
          "base_uri": "https://localhost:8080/"
        },
        "id": "dN110lF1yJce",
        "outputId": "ca9efd62-59a0-4933-9074-c00298dc3b63"
      },
      "outputs": [
        {
          "output_type": "stream",
          "name": "stdout",
          "text": [
            "+-------+-----------------------+------------------+------------------+-----------------+------------------+-----------+------------------+\n",
            "|summary|Session_Connection_Time| Bytes Transferred|   Kali_Trace_Used|Servers_Corrupted|   Pages_Corrupted|   Location|  WPM_Typing_Speed|\n",
            "+-------+-----------------------+------------------+------------------+-----------------+------------------+-----------+------------------+\n",
            "|  count|                    334|               334|               334|              334|               334|        334|               334|\n",
            "|   mean|     30.008982035928145| 607.2452694610777|0.5119760479041916|5.258502994011977|10.838323353293413|       null|57.342395209580864|\n",
            "| stddev|     14.088200614636158|286.33593163576757|0.5006065264451406| 2.30190693339697|  3.06352633036022|       null| 13.41106336843464|\n",
            "|    min|                    1.0|              10.0|                 0|              1.0|               6.0|Afghanistan|              40.0|\n",
            "|    max|                   60.0|            1330.5|                 1|             10.0|              15.0|   Zimbabwe|              75.0|\n",
            "+-------+-----------------------+------------------+------------------+-----------------+------------------+-----------+------------------+\n",
            "\n"
          ]
        }
      ],
      "source": [
        "data.describe().show()"
      ]
    },
    {
      "cell_type": "code",
      "execution_count": 6,
      "metadata": {
        "colab": {
          "base_uri": "https://localhost:8080/"
        },
        "id": "U8KNRZc7yJce",
        "outputId": "e5ada1d1-38e4-4018-ca97-73b1247ab15a"
      },
      "outputs": [
        {
          "output_type": "execute_result",
          "data": {
            "text/plain": [
              "['Session_Connection_Time',\n",
              " 'Bytes Transferred',\n",
              " 'Kali_Trace_Used',\n",
              " 'Servers_Corrupted',\n",
              " 'Pages_Corrupted',\n",
              " 'Location',\n",
              " 'WPM_Typing_Speed']"
            ]
          },
          "metadata": {},
          "execution_count": 6
        }
      ],
      "source": [
        "data.columns"
      ]
    },
    {
      "cell_type": "code",
      "execution_count": 7,
      "metadata": {
        "collapsed": true,
        "id": "YC75KBmUyJcf"
      },
      "outputs": [],
      "source": [
        "from pyspark.ml.linalg import Vectors\n",
        "from pyspark.ml.feature import VectorAssembler"
      ]
    },
    {
      "cell_type": "code",
      "execution_count": 9,
      "metadata": {
        "collapsed": true,
        "id": "2VoFbQvNyJcf"
      },
      "outputs": [],
      "source": [
        "feat_cols = ['Session_Connection_Time', 'Bytes Transferred', 'Kali_Trace_Used',\n",
        "             'Servers_Corrupted', 'Pages_Corrupted','WPM_Typing_Speed']"
      ]
    },
    {
      "cell_type": "code",
      "execution_count": 10,
      "metadata": {
        "collapsed": true,
        "id": "umPPDf9hyJcf"
      },
      "outputs": [],
      "source": [
        "vec_assembler = VectorAssembler(inputCols = feat_cols, outputCol='features')"
      ]
    },
    {
      "cell_type": "code",
      "execution_count": 11,
      "metadata": {
        "collapsed": true,
        "id": "RQuNsCMvyJcg"
      },
      "outputs": [],
      "source": [
        "final_data = vec_assembler.transform(data)"
      ]
    },
    {
      "cell_type": "code",
      "execution_count": 12,
      "metadata": {
        "collapsed": true,
        "id": "2D0r0zxcyJch"
      },
      "outputs": [],
      "source": [
        "from pyspark.ml.feature import StandardScaler"
      ]
    },
    {
      "cell_type": "code",
      "execution_count": 13,
      "metadata": {
        "collapsed": true,
        "id": "ePigNXIzyJch"
      },
      "outputs": [],
      "source": [
        "scaler = StandardScaler(inputCol=\"features\", outputCol=\"scaledFeatures\", withStd=True, withMean=False)"
      ]
    },
    {
      "cell_type": "code",
      "execution_count": 14,
      "metadata": {
        "collapsed": true,
        "id": "AuIedaTIyJci"
      },
      "outputs": [],
      "source": [
        "# Compute summary statistics by fitting the StandardScaler\n",
        "scalerModel = scaler.fit(final_data)"
      ]
    },
    {
      "cell_type": "code",
      "execution_count": 15,
      "metadata": {
        "collapsed": true,
        "id": "nO1v_MJHyJci"
      },
      "outputs": [],
      "source": [
        "# Normalize each feature to have unit standard deviation.\n",
        "cluster_final_data = scalerModel.transform(final_data)"
      ]
    },
    {
      "cell_type": "markdown",
      "metadata": {
        "id": "iKfUfmWnyJci"
      },
      "source": [
        "** Time to find out whether its 2 or 3! **"
      ]
    },
    {
      "cell_type": "code",
      "execution_count": 23,
      "metadata": {
        "collapsed": true,
        "id": "7yCf1aT4yJci"
      },
      "outputs": [],
      "source": [
        "from pyspark.ml.clustering import KMeans\n",
        "from pyspark.ml.evaluation import ClusteringEvaluator\n",
        "kmeans3 = KMeans().setK(3).setSeed(1)\n",
        "kmeans2 = KMeans().setK(2).setSeed(1)"
      ]
    },
    {
      "cell_type": "code",
      "execution_count": 24,
      "metadata": {
        "collapsed": true,
        "id": "GeOXXFvKyJci"
      },
      "outputs": [],
      "source": [
        "model_k3 = kmeans3.fit(cluster_final_data)\n",
        "model_k2 = kmeans2.fit(cluster_final_data)"
      ]
    },
    {
      "cell_type": "code",
      "execution_count": 26,
      "metadata": {
        "collapsed": true,
        "id": "AfqgOqhgyJcj"
      },
      "outputs": [],
      "source": [
        "evaluator = ClusteringEvaluator()\n",
        "wssse_k3 = evaluator.evaluate(model_k3.transform(cluster_final_data))\n",
        "wssse_k2 = evaluator.evaluate(model_k2.transform(cluster_final_data))"
      ]
    },
    {
      "cell_type": "code",
      "execution_count": 29,
      "metadata": {
        "colab": {
          "base_uri": "https://localhost:8080/"
        },
        "id": "eSa_y7ihyJcj",
        "outputId": "abf0efe6-f8d7-4405-e57f-d96d91854767"
      },
      "outputs": [
        {
          "output_type": "stream",
          "name": "stdout",
          "text": [
            "With K=3\n",
            "Prediction = 0.6958546319645178\n",
            "------------------------------------------------------------\n",
            "With K=2\n",
            "Prediction = 0.8048521975748283\n"
          ]
        }
      ],
      "source": [
        "print(\"With K=3\")\n",
        "print(\"Prediction = \" + str(wssse_k3))\n",
        "print('--'*30)\n",
        "print(\"With K=2\")\n",
        "print(\"Prediction = \" + str(wssse_k2))"
      ]
    },
    {
      "cell_type": "markdown",
      "metadata": {
        "id": "baAjq4sWyJcj"
      },
      "source": [
        "The last key fact that the engineer mentioned was that the attacks should be evenly numbered between the hackers! "
      ]
    },
    {
      "cell_type": "code",
      "execution_count": 30,
      "metadata": {
        "colab": {
          "base_uri": "https://localhost:8080/"
        },
        "id": "0mGBcudXyJck",
        "outputId": "f7e17757-76fe-45c2-d57c-19019f988b96"
      },
      "outputs": [
        {
          "output_type": "stream",
          "name": "stdout",
          "text": [
            "+----------+-----+\n",
            "|prediction|count|\n",
            "+----------+-----+\n",
            "|         1|  114|\n",
            "|         2|  125|\n",
            "|         0|   95|\n",
            "+----------+-----+\n",
            "\n"
          ]
        }
      ],
      "source": [
        "model_k3.transform(cluster_final_data).groupBy('prediction').count().show()"
      ]
    },
    {
      "cell_type": "code",
      "execution_count": 31,
      "metadata": {
        "colab": {
          "base_uri": "https://localhost:8080/"
        },
        "id": "VPvT4GiuyJck",
        "outputId": "8aba46f7-66c2-4e6b-ea76-e48cb180994b"
      },
      "outputs": [
        {
          "output_type": "stream",
          "name": "stdout",
          "text": [
            "+----------+-----+\n",
            "|prediction|count|\n",
            "+----------+-----+\n",
            "|         1|  170|\n",
            "|         0|  164|\n",
            "+----------+-----+\n",
            "\n"
          ]
        }
      ],
      "source": [
        "model_k2.transform(cluster_final_data).groupBy('prediction').count().show()"
      ]
    },
    {
      "cell_type": "markdown",
      "source": [
        "Bingo! It was 2 hackers"
      ],
      "metadata": {
        "id": "YWIE85SU2Z4Z"
      }
    }
  ],
  "metadata": {
    "anaconda-cloud": {},
    "kernelspec": {
      "display_name": "Python [conda root]",
      "language": "python",
      "name": "conda-root-py"
    },
    "language_info": {
      "codemirror_mode": {
        "name": "ipython",
        "version": 3
      },
      "file_extension": ".py",
      "mimetype": "text/x-python",
      "name": "python",
      "nbconvert_exporter": "python",
      "pygments_lexer": "ipython3",
      "version": "3.5.3"
    },
    "colab": {
      "provenance": []
    }
  },
  "nbformat": 4,
  "nbformat_minor": 0
}