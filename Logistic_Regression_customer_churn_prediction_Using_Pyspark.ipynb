{
  "cells": [
    {
      "cell_type": "markdown",
      "metadata": {
        "id": "q6UaThR6WkZA"
      },
      "source": [
        "# Logistic Regression Consulting Project"
      ]
    },
    {
      "cell_type": "markdown",
      "metadata": {
        "collapsed": true,
        "id": "SuKUgkqmWkZC"
      },
      "source": [
        "## Binary Customer Churn\n",
        "\n",
        "A marketing agency has many customers that use their service to produce ads for the client/customer websites. They've noticed that they have quite a bit of churn in clients. the goal is to create a machine learning model that will help predict which customers will churn so that they can correctly assign the customers most at risk to churn an account manager.\n",
        "Here are the fields and their definitions:\n",
        "\n",
        "    Name : Name of the latest contact at Company\n",
        "    Age: Customer Age\n",
        "    Total_Purchase: Total Ads Purchased\n",
        "    Account_Manager: Binary 0=No manager, 1= Account manager assigned\n",
        "    Years: Totaly Years as a customer\n",
        "    Num_sites: Number of websites that use the service.\n",
        "    Onboard_date: Date that the name of the latest contact was onboarded\n",
        "    Location: Client HQ Address\n",
        "    Company: Name of Client Company"
      ]
    },
    {
      "cell_type": "code",
      "source": [
        "!pip install pyspark"
      ],
      "metadata": {
        "colab": {
          "base_uri": "https://localhost:8080/"
        },
        "id": "xU12LHMxW2VI",
        "outputId": "256f581e-417a-4ebe-d722-0b5485a338a2"
      },
      "execution_count": 1,
      "outputs": [
        {
          "output_type": "stream",
          "name": "stdout",
          "text": [
            "Looking in indexes: https://pypi.org/simple, https://us-python.pkg.dev/colab-wheels/public/simple/\n",
            "Collecting pyspark\n",
            "  Downloading pyspark-3.4.0.tar.gz (310.8 MB)\n",
            "\u001b[2K     \u001b[90m━━━━━━━━━━━━━━━━━━━━━━━━━━━━━━━━━━━━━━━\u001b[0m \u001b[32m310.8/310.8 MB\u001b[0m \u001b[31m3.6 MB/s\u001b[0m eta \u001b[36m0:00:00\u001b[0m\n",
            "\u001b[?25h  Preparing metadata (setup.py) ... \u001b[?25l\u001b[?25hdone\n",
            "Requirement already satisfied: py4j==0.10.9.7 in /usr/local/lib/python3.10/dist-packages (from pyspark) (0.10.9.7)\n",
            "Building wheels for collected packages: pyspark\n",
            "  Building wheel for pyspark (setup.py) ... \u001b[?25l\u001b[?25hdone\n",
            "  Created wheel for pyspark: filename=pyspark-3.4.0-py2.py3-none-any.whl size=311317145 sha256=516cce52ae25376de89f1e4cac10fc8fa64c373b04f84bfe1883969b14145a15\n",
            "  Stored in directory: /root/.cache/pip/wheels/7b/1b/4b/3363a1d04368e7ff0d408e57ff57966fcdf00583774e761327\n",
            "Successfully built pyspark\n",
            "Installing collected packages: pyspark\n",
            "Successfully installed pyspark-3.4.0\n"
          ]
        }
      ]
    },
    {
      "cell_type": "code",
      "source": [
        "import pyspark\n",
        "from pyspark.sql import SparkSession\n",
        "spark = SparkSession.builder.appName('logistic_reg_project').getOrCreate()"
      ],
      "metadata": {
        "id": "YhsRuMBkW7r6"
      },
      "execution_count": 2,
      "outputs": []
    },
    {
      "cell_type": "code",
      "source": [
        "#import data\n",
        "data = spark.read.csv('customer_churn.csv',inferSchema=True,header=True)"
      ],
      "metadata": {
        "id": "MCBjTdejXKm0"
      },
      "execution_count": 3,
      "outputs": []
    },
    {
      "cell_type": "code",
      "source": [
        "data.printSchema()"
      ],
      "metadata": {
        "colab": {
          "base_uri": "https://localhost:8080/"
        },
        "id": "pzBNK_v7XVYy",
        "outputId": "5a5e444a-002b-4fbb-cf94-4e5cabfd4969"
      },
      "execution_count": 4,
      "outputs": [
        {
          "output_type": "stream",
          "name": "stdout",
          "text": [
            "root\n",
            " |-- Names: string (nullable = true)\n",
            " |-- Age: double (nullable = true)\n",
            " |-- Total_Purchase: double (nullable = true)\n",
            " |-- Account_Manager: integer (nullable = true)\n",
            " |-- Years: double (nullable = true)\n",
            " |-- Num_Sites: double (nullable = true)\n",
            " |-- Onboard_date: timestamp (nullable = true)\n",
            " |-- Location: string (nullable = true)\n",
            " |-- Company: string (nullable = true)\n",
            " |-- Churn: integer (nullable = true)\n",
            "\n"
          ]
        }
      ]
    },
    {
      "cell_type": "code",
      "source": [
        "data.show()"
      ],
      "metadata": {
        "colab": {
          "base_uri": "https://localhost:8080/"
        },
        "id": "xy5Hh863XaXI",
        "outputId": "156a06a8-cef5-4ed8-d78d-1de77ceb84c0"
      },
      "execution_count": 5,
      "outputs": [
        {
          "output_type": "stream",
          "name": "stdout",
          "text": [
            "+-------------------+----+--------------+---------------+-----+---------+-------------------+--------------------+--------------------+-----+\n",
            "|              Names| Age|Total_Purchase|Account_Manager|Years|Num_Sites|       Onboard_date|            Location|             Company|Churn|\n",
            "+-------------------+----+--------------+---------------+-----+---------+-------------------+--------------------+--------------------+-----+\n",
            "|   Cameron Williams|42.0|       11066.8|              0| 7.22|      8.0|2013-08-30 07:00:40|10265 Elizabeth M...|          Harvey LLC|    1|\n",
            "|      Kevin Mueller|41.0|      11916.22|              0|  6.5|     11.0|2013-08-13 00:38:46|6157 Frank Garden...|          Wilson PLC|    1|\n",
            "|        Eric Lozano|38.0|      12884.75|              0| 6.67|     12.0|2016-06-29 06:20:07|1331 Keith Court ...|Miller, Johnson a...|    1|\n",
            "|      Phillip White|42.0|       8010.76|              0| 6.71|     10.0|2014-04-22 12:43:12|13120 Daniel Moun...|           Smith Inc|    1|\n",
            "|     Cynthia Norton|37.0|       9191.58|              0| 5.56|      9.0|2016-01-19 15:31:15|765 Tricia Row Ka...|          Love-Jones|    1|\n",
            "|   Jessica Williams|48.0|      10356.02|              0| 5.12|      8.0|2009-03-03 23:13:37|6187 Olson Mounta...|        Kelly-Warren|    1|\n",
            "|        Eric Butler|44.0|      11331.58|              1| 5.23|     11.0|2016-12-05 03:35:43|4846 Savannah Roa...|   Reynolds-Sheppard|    1|\n",
            "|      Zachary Walsh|32.0|       9885.12|              1| 6.92|      9.0|2006-03-09 14:50:20|25271 Roy Express...|          Singh-Cole|    1|\n",
            "|        Ashlee Carr|43.0|       14062.6|              1| 5.46|     11.0|2011-09-29 05:47:23|3725 Caroline Str...|           Lopez PLC|    1|\n",
            "|     Jennifer Lynch|40.0|       8066.94|              1| 7.11|     11.0|2006-03-28 15:42:45|363 Sandra Lodge ...|       Reed-Martinez|    1|\n",
            "|       Paula Harris|30.0|      11575.37|              1| 5.22|      8.0|2016-11-13 13:13:01|Unit 8120 Box 916...|Briggs, Lamb and ...|    1|\n",
            "|     Bruce Phillips|45.0|       8771.02|              1| 6.64|     11.0|2015-05-28 12:14:03|Unit 1895 Box 094...|    Figueroa-Maynard|    1|\n",
            "|       Craig Garner|45.0|       8988.67|              1| 4.84|     11.0|2011-02-16 08:10:47|897 Kelley Overpa...|     Abbott-Thompson|    1|\n",
            "|       Nicole Olson|40.0|       8283.32|              1|  5.1|     13.0|2012-11-22 05:35:03|11488 Weaver Cape...|Smith, Kim and Ma...|    1|\n",
            "|     Harold Griffin|41.0|       6569.87|              1|  4.3|     11.0|2015-03-28 02:13:44|1774 Peter Row Ap...|Snyder, Lee and M...|    1|\n",
            "|       James Wright|38.0|      10494.82|              1| 6.81|     12.0|2015-07-22 08:38:40|45408 David Path ...|      Sanders-Pierce|    1|\n",
            "|      Doris Wilkins|45.0|       8213.41|              1| 7.35|     11.0|2006-09-03 06:13:55|28216 Wright Moun...|Andrews, Adams an...|    1|\n",
            "|Katherine Carpenter|43.0|      11226.88|              0| 8.08|     12.0|2006-10-22 04:42:38|Unit 4948 Box 481...|Morgan, Phillips ...|    1|\n",
            "|     Lindsay Martin|53.0|       5515.09|              0| 6.85|      8.0|2015-10-07 00:27:10|69203 Crosby Divi...|      Villanueva LLC|    1|\n",
            "|        Kathy Curry|46.0|        8046.4|              1| 5.69|      8.0|2014-11-06 23:47:14|9569 Caldwell Cre...|Berry, Orr and Ca...|    1|\n",
            "+-------------------+----+--------------+---------------+-----+---------+-------------------+--------------------+--------------------+-----+\n",
            "only showing top 20 rows\n",
            "\n"
          ]
        }
      ]
    },
    {
      "cell_type": "code",
      "source": [
        "data.columns"
      ],
      "metadata": {
        "colab": {
          "base_uri": "https://localhost:8080/"
        },
        "id": "OaWbcuTyXbvu",
        "outputId": "9e562364-396c-4412-ef64-6c5b137ed602"
      },
      "execution_count": 6,
      "outputs": [
        {
          "output_type": "execute_result",
          "data": {
            "text/plain": [
              "['Names',\n",
              " 'Age',\n",
              " 'Total_Purchase',\n",
              " 'Account_Manager',\n",
              " 'Years',\n",
              " 'Num_Sites',\n",
              " 'Onboard_date',\n",
              " 'Location',\n",
              " 'Company',\n",
              " 'Churn']"
            ]
          },
          "metadata": {},
          "execution_count": 6
        }
      ]
    },
    {
      "cell_type": "code",
      "source": [
        "data.groupBy('Location').count().show()\n",
        "data.groupBy('Company').count().show()"
      ],
      "metadata": {
        "colab": {
          "base_uri": "https://localhost:8080/"
        },
        "id": "TA66E0BgZZda",
        "outputId": "5c4c8119-d051-421a-f0d0-b44b3ce0c51f"
      },
      "execution_count": 24,
      "outputs": [
        {
          "output_type": "stream",
          "name": "stdout",
          "text": [
            "+--------------------+-----+\n",
            "|            Location|count|\n",
            "+--------------------+-----+\n",
            "|062 Trevor Falls ...|    1|\n",
            "|066 Jenkins Walks...|    1|\n",
            "|45946 Day Springs...|    1|\n",
            "|143 Andrea Flat L...|    1|\n",
            "|Unit 2093 Box 153...|    1|\n",
            "|399 Herbert Key P...|    1|\n",
            "|104 Ruben Rapid A...|    1|\n",
            "|930 Carrie Harbor...|    1|\n",
            "|8202 Jade Unions ...|    1|\n",
            "|USCGC Bailey FPO ...|    1|\n",
            "|893 Carla Trace S...|    1|\n",
            "|446 Rodney Ridge ...|    1|\n",
            "|30668 Isabella Fr...|    1|\n",
            "|911 Kent Point An...|    1|\n",
            "|078 Nunez Haven S...|    1|\n",
            "|PSC 5667, Box 831...|    1|\n",
            "|4972 Michael Vill...|    1|\n",
            "|567 Ian Loop Lamb...|    1|\n",
            "|482 Wells Mountai...|    1|\n",
            "|7259 Brown Street...|    1|\n",
            "+--------------------+-----+\n",
            "only showing top 20 rows\n",
            "\n",
            "+--------------------+-----+\n",
            "|             Company|count|\n",
            "+--------------------+-----+\n",
            "|Miller, Johnson a...|    1|\n",
            "|Hunter, Reyes and...|    1|\n",
            "|          Obrien PLC|    1|\n",
            "|            Soto PLC|    2|\n",
            "|            Todd LLC|    1|\n",
            "|Smith, Marshall a...|    1|\n",
            "|           Smith PLC|    1|\n",
            "|          Hall Group|    1|\n",
            "|Freeman, Lam and ...|    1|\n",
            "|       Smith-Carroll|    1|\n",
            "|Hall, Hernandez a...|    1|\n",
            "|          Cannon Inc|    1|\n",
            "|        White-Dennis|    1|\n",
            "|Wilson, Collins a...|    1|\n",
            "|Jennings, Gates a...|    1|\n",
            "|     Campbell-Willis|    1|\n",
            "|    Martinez-Roberts|    1|\n",
            "|        Robinson PLC|    1|\n",
            "|          Barton Inc|    1|\n",
            "|Hernandez, Middle...|    1|\n",
            "+--------------------+-----+\n",
            "only showing top 20 rows\n",
            "\n"
          ]
        }
      ]
    },
    {
      "cell_type": "markdown",
      "source": [
        " We don't need the name and onboard date. Moreover Company and Location are sting but they have too many category so we can exclude them as well."
      ],
      "metadata": {
        "id": "HhEf1L3IakPj"
      }
    },
    {
      "cell_type": "code",
      "source": [
        "my_cols = data.select(['Age',\n",
        " 'Total_Purchase',\n",
        " 'Account_Manager',\n",
        " 'Years',\n",
        " 'Num_Sites'])"
      ],
      "metadata": {
        "id": "5RTvhiGXXlC6"
      },
      "execution_count": 25,
      "outputs": []
    },
    {
      "cell_type": "code",
      "source": [
        "#drop missing data\n",
        "my_final_data = my_cols.na.drop()"
      ],
      "metadata": {
        "id": "xfCo-eLeYehm"
      },
      "execution_count": 26,
      "outputs": []
    },
    {
      "cell_type": "markdown",
      "source": [
        "Format for MLlib"
      ],
      "metadata": {
        "id": "9o0irj1wbF9B"
      }
    },
    {
      "cell_type": "code",
      "source": [
        "from pyspark.ml.feature import VectorAssembler\n",
        "assembler = VectorAssembler(inputCols=['Age',\n",
        " 'Total_Purchase',\n",
        " 'Account_Manager',\n",
        " 'Years',\n",
        " 'Num_Sites'],outputCol='features')\n",
        "output = assembler.transform(data)\n",
        "final_data = output.select('features','churn')\n",
        "final_data.show()"
      ],
      "metadata": {
        "colab": {
          "base_uri": "https://localhost:8080/"
        },
        "id": "RKYRfVE4ZhRC",
        "outputId": "0aa63c8d-e82e-4303-fb8a-1bae82ecaa2b"
      },
      "execution_count": 27,
      "outputs": [
        {
          "output_type": "stream",
          "name": "stdout",
          "text": [
            "+--------------------+-----+\n",
            "|            features|churn|\n",
            "+--------------------+-----+\n",
            "|[42.0,11066.8,0.0...|    1|\n",
            "|[41.0,11916.22,0....|    1|\n",
            "|[38.0,12884.75,0....|    1|\n",
            "|[42.0,8010.76,0.0...|    1|\n",
            "|[37.0,9191.58,0.0...|    1|\n",
            "|[48.0,10356.02,0....|    1|\n",
            "|[44.0,11331.58,1....|    1|\n",
            "|[32.0,9885.12,1.0...|    1|\n",
            "|[43.0,14062.6,1.0...|    1|\n",
            "|[40.0,8066.94,1.0...|    1|\n",
            "|[30.0,11575.37,1....|    1|\n",
            "|[45.0,8771.02,1.0...|    1|\n",
            "|[45.0,8988.67,1.0...|    1|\n",
            "|[40.0,8283.32,1.0...|    1|\n",
            "|[41.0,6569.87,1.0...|    1|\n",
            "|[38.0,10494.82,1....|    1|\n",
            "|[45.0,8213.41,1.0...|    1|\n",
            "|[43.0,11226.88,0....|    1|\n",
            "|[53.0,5515.09,0.0...|    1|\n",
            "|[46.0,8046.4,1.0,...|    1|\n",
            "+--------------------+-----+\n",
            "only showing top 20 rows\n",
            "\n"
          ]
        }
      ]
    },
    {
      "cell_type": "code",
      "source": [
        "#train & test split\n",
        "train_churn,test_churn = final_data.randomSplit([0.8,0.2])"
      ],
      "metadata": {
        "id": "3tDUsQYWbYdb"
      },
      "execution_count": 28,
      "outputs": []
    },
    {
      "cell_type": "markdown",
      "source": [
        "## Fit the model"
      ],
      "metadata": {
        "id": "yReeejAGbifa"
      }
    },
    {
      "cell_type": "code",
      "source": [
        "from pyspark.ml.classification import LogisticRegression\n",
        "log_reg = LogisticRegression(labelCol='churn')\n",
        "log_reg_model = log_reg.fit(train_churn)"
      ],
      "metadata": {
        "id": "JFEYECNqbgDk"
      },
      "execution_count": 29,
      "outputs": []
    },
    {
      "cell_type": "code",
      "source": [
        "training_sum = log_reg_model.summary\n",
        "training_sum.predictions.describe().show()"
      ],
      "metadata": {
        "colab": {
          "base_uri": "https://localhost:8080/"
        },
        "id": "E1aDd6NabwEA",
        "outputId": "abc87ec8-4915-4213-ec36-d4c8867638bd"
      },
      "execution_count": 30,
      "outputs": [
        {
          "output_type": "stream",
          "name": "stdout",
          "text": [
            "+-------+-------------------+-------------------+\n",
            "|summary|              churn|         prediction|\n",
            "+-------+-------------------+-------------------+\n",
            "|  count|                727|                727|\n",
            "|   mean|0.16781292984869325|0.12379642365887207|\n",
            "| stddev| 0.3739573614828893| 0.3295759063688023|\n",
            "|    min|                0.0|                0.0|\n",
            "|    max|                1.0|                1.0|\n",
            "+-------+-------------------+-------------------+\n",
            "\n"
          ]
        }
      ]
    },
    {
      "cell_type": "markdown",
      "source": [
        "## Evaluation"
      ],
      "metadata": {
        "id": "GWgB39hQb2C5"
      }
    },
    {
      "cell_type": "code",
      "source": [
        "from pyspark.ml.evaluation import BinaryClassificationEvaluator\n",
        "pred_and_labels = log_reg_model.evaluate(test_churn)\n",
        "pred_and_labels.predictions.show()"
      ],
      "metadata": {
        "colab": {
          "base_uri": "https://localhost:8080/"
        },
        "id": "GmXQuspJb0dl",
        "outputId": "8649b3ce-1466-43a3-e4aa-4b06fbfb959c"
      },
      "execution_count": 31,
      "outputs": [
        {
          "output_type": "stream",
          "name": "stdout",
          "text": [
            "+--------------------+-----+--------------------+--------------------+----------+\n",
            "|            features|churn|       rawPrediction|         probability|prediction|\n",
            "+--------------------+-----+--------------------+--------------------+----------+\n",
            "|[25.0,9672.03,0.0...|    0|[4.31998558406955...|[0.98687449493140...|       0.0|\n",
            "|[28.0,8670.98,0.0...|    0|[7.44701593839036...|[0.99941716063870...|       0.0|\n",
            "|[28.0,11204.23,0....|    0|[1.49150669374831...|[0.81630431137394...|       0.0|\n",
            "|[28.0,11245.38,0....|    0|[3.4753536229146,...|[0.96997831095851...|       0.0|\n",
            "|[31.0,8829.83,1.0...|    0|[4.12150404563998...|[0.98403879207823...|       0.0|\n",
            "|[31.0,10058.87,1....|    0|[4.19623517440571...|[0.98517106818392...|       0.0|\n",
            "|[32.0,8575.71,0.0...|    0|[3.53402197561094...|[0.97164044947947...|       0.0|\n",
            "|[32.0,10716.75,0....|    0|[4.18774116240494...|[0.98504646612671...|       0.0|\n",
            "|[32.0,11540.86,0....|    0|[6.48546864251690...|[0.99847687772994...|       0.0|\n",
            "|[32.0,12403.6,0.0...|    0|[5.38833820769654...|[0.99545122521199...|       0.0|\n",
            "|[33.0,12249.96,0....|    0|[5.23225086289984...|[0.99468689110913...|       0.0|\n",
            "|[33.0,13157.08,1....|    0|[1.17092492198348...|[0.76331215903045...|       0.0|\n",
            "|[34.0,8772.26,0.0...|    0|[2.63446778418253...|[0.93304719304311...|       0.0|\n",
            "|[34.0,10674.92,1....|    0|[3.47889393508159...|[0.97008123486023...|       0.0|\n",
            "|[34.0,11687.29,0....|    0|[5.57740373451124...|[0.99623187961003...|       0.0|\n",
            "|[34.0,12567.53,0....|    0|[1.35433006191439...|[0.79483663877697...|       0.0|\n",
            "|[35.0,6683.82,1.0...|    0|[3.49604569897561...|[0.97057504777220...|       0.0|\n",
            "|[35.0,8828.59,0.0...|    0|[2.06394839602816...|[0.88734945720876...|       0.0|\n",
            "|[35.0,10801.37,1....|    0|[-0.3327856907899...|[0.41756297645391...|       1.0|\n",
            "|[35.0,10999.05,0....|    0|[1.83842128188469...|[0.86276188821082...|       0.0|\n",
            "+--------------------+-----+--------------------+--------------------+----------+\n",
            "only showing top 20 rows\n",
            "\n"
          ]
        }
      ]
    },
    {
      "cell_type": "code",
      "source": [
        "churn_eval = BinaryClassificationEvaluator(rawPredictionCol='prediction',\n",
        "                                           labelCol='churn')\n",
        "auc = churn_eval.evaluate(pred_and_labels.predictions)\n",
        "auc"
      ],
      "metadata": {
        "colab": {
          "base_uri": "https://localhost:8080/"
        },
        "id": "ANWBL2xwcB0l",
        "outputId": "c4cfbc8b-74a1-4520-96af-b94f21d13c07"
      },
      "execution_count": 32,
      "outputs": [
        {
          "output_type": "execute_result",
          "data": {
            "text/plain": [
              "0.751231527093596"
            ]
          },
          "metadata": {},
          "execution_count": 32
        }
      ]
    },
    {
      "cell_type": "markdown",
      "source": [
        "## Predict on brand new unlabeled data"
      ],
      "metadata": {
        "id": "Jvr2UKt8gCnk"
      }
    },
    {
      "cell_type": "code",
      "source": [
        "final_log_reg = log_reg.fit(final_data)\n",
        "new_customers = spark.read.csv('new_customers.csv',inferSchema=True,\n",
        "                              header=True)\n",
        "new_customers.printSchema()"
      ],
      "metadata": {
        "colab": {
          "base_uri": "https://localhost:8080/"
        },
        "id": "NinJCfCXgDAl",
        "outputId": "46ae2646-6b23-4d79-f9be-c507d9f99f3e"
      },
      "execution_count": 37,
      "outputs": [
        {
          "output_type": "stream",
          "name": "stdout",
          "text": [
            "root\n",
            " |-- Names: string (nullable = true)\n",
            " |-- Age: double (nullable = true)\n",
            " |-- Total_Purchase: double (nullable = true)\n",
            " |-- Account_Manager: integer (nullable = true)\n",
            " |-- Years: double (nullable = true)\n",
            " |-- Num_Sites: double (nullable = true)\n",
            " |-- Onboard_date: timestamp (nullable = true)\n",
            " |-- Location: string (nullable = true)\n",
            " |-- Company: string (nullable = true)\n",
            "\n"
          ]
        }
      ]
    },
    {
      "cell_type": "code",
      "source": [
        "#add features column \n",
        "test_new_customers = assembler.transform(new_customers)\n",
        "test_new_customers.printSchema()"
      ],
      "metadata": {
        "colab": {
          "base_uri": "https://localhost:8080/"
        },
        "id": "aR4rdxhRgMGQ",
        "outputId": "2fdededb-54cd-44de-fcde-91307082a92b"
      },
      "execution_count": 38,
      "outputs": [
        {
          "output_type": "stream",
          "name": "stdout",
          "text": [
            "root\n",
            " |-- Names: string (nullable = true)\n",
            " |-- Age: double (nullable = true)\n",
            " |-- Total_Purchase: double (nullable = true)\n",
            " |-- Account_Manager: integer (nullable = true)\n",
            " |-- Years: double (nullable = true)\n",
            " |-- Num_Sites: double (nullable = true)\n",
            " |-- Onboard_date: timestamp (nullable = true)\n",
            " |-- Location: string (nullable = true)\n",
            " |-- Company: string (nullable = true)\n",
            " |-- features: vector (nullable = true)\n",
            "\n"
          ]
        }
      ]
    },
    {
      "cell_type": "code",
      "source": [
        "final_results = final_log_reg.transform(test_new_customers)\n",
        "final_results.select('Company','prediction').show()"
      ],
      "metadata": {
        "colab": {
          "base_uri": "https://localhost:8080/"
        },
        "id": "Ry9aq9XNgbMK",
        "outputId": "9f8b807c-2f0c-4aaf-8c45-cc37c5d9bd73"
      },
      "execution_count": 39,
      "outputs": [
        {
          "output_type": "stream",
          "name": "stdout",
          "text": [
            "+----------------+----------+\n",
            "|         Company|prediction|\n",
            "+----------------+----------+\n",
            "|        King Ltd|       0.0|\n",
            "|   Cannon-Benson|       1.0|\n",
            "|Barron-Robertson|       1.0|\n",
            "|   Sexton-Golden|       1.0|\n",
            "|        Wood LLC|       0.0|\n",
            "|   Parks-Robbins|       1.0|\n",
            "+----------------+----------+\n",
            "\n"
          ]
        }
      ]
    }
  ],
  "metadata": {
    "anaconda-cloud": {},
    "kernelspec": {
      "display_name": "Python [conda root]",
      "language": "python",
      "name": "conda-root-py"
    },
    "language_info": {
      "codemirror_mode": {
        "name": "ipython",
        "version": 3
      },
      "file_extension": ".py",
      "mimetype": "text/x-python",
      "name": "python",
      "nbconvert_exporter": "python",
      "pygments_lexer": "ipython3",
      "version": "3.5.3"
    },
    "colab": {
      "provenance": []
    }
  },
  "nbformat": 4,
  "nbformat_minor": 0
}